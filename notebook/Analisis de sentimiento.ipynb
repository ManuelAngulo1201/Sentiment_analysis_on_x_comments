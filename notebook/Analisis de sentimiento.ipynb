{
 "cells": [
  {
   "cell_type": "code",
   "execution_count": 1,
   "metadata": {},
   "outputs": [
    {
     "name": "stderr",
     "output_type": "stream",
     "text": [
      "f:\\ManuelAngulo\\PROYECTOS\\ANALISIS DE SENTIMIENTOS\\nombre_del_entorno\\Lib\\site-packages\\tqdm\\auto.py:21: TqdmWarning: IProgress not found. Please update jupyter and ipywidgets. See https://ipywidgets.readthedocs.io/en/stable/user_install.html\n",
      "  from .autonotebook import tqdm as notebook_tqdm\n"
     ]
    },
    {
     "name": "stdout",
     "output_type": "stream",
     "text": [
      "WARNING:tensorflow:From f:\\ManuelAngulo\\PROYECTOS\\ANALISIS DE SENTIMIENTOS\\nombre_del_entorno\\Lib\\site-packages\\tf_keras\\src\\losses.py:2976: The name tf.losses.sparse_softmax_cross_entropy is deprecated. Please use tf.compat.v1.losses.sparse_softmax_cross_entropy instead.\n",
      "\n",
      "WARNING:tensorflow:From f:\\ManuelAngulo\\PROYECTOS\\ANALISIS DE SENTIMIENTOS\\nombre_del_entorno\\Lib\\site-packages\\tf_keras\\src\\backend.py:873: The name tf.get_default_graph is deprecated. Please use tf.compat.v1.get_default_graph instead.\n",
      "\n"
     ]
    },
    {
     "name": "stderr",
     "output_type": "stream",
     "text": [
      "All model checkpoint layers were used when initializing TFBertForSequenceClassification.\n",
      "\n",
      "All the layers of TFBertForSequenceClassification were initialized from the model checkpoint at nlptown/bert-base-multilingual-uncased-sentiment.\n",
      "If your task is similar to the task the model of the checkpoint was trained on, you can already use TFBertForSequenceClassification for predictions without further training.\n"
     ]
    }
   ],
   "source": [
    "import pandas as pd\n",
    "from transformers import AutoTokenizer, TFAutoModelForSequenceClassification\n",
    "import tensorflow as tf\n",
    "\n",
    "\n",
    "# Cargar el tokenizador y el modelo\n",
    "model_name = \"nlptown/bert-base-multilingual-uncased-sentiment\"\n",
    "tokenizer = AutoTokenizer.from_pretrained(model_name)\n",
    "model = TFAutoModelForSequenceClassification.from_pretrained(model_name)\n",
    "\n",
    "# Función para analizar el sentimiento\n",
    "def analyze_sentiment(text):\n",
    "    inputs = tokenizer(text, return_tensors=\"tf\", truncation=False, padding='max_length', max_length=512)\n",
    "    outputs = model(inputs)\n",
    "    logits = outputs.logits\n",
    "    sentiment = tf.argmax(logits, axis=1).numpy()[0]\n",
    "    return sentiment + 1  # Ajuste para la escala de 1 a 5\n",
    "\n",
    "# Leer el DataFrame\n",
    "data = pd.read_csv('F:\\ManuelAngulo\\PROYECTOS\\ANALISIS DE SENTIMIENTOS\\data\\X_dumek_data_filtrado.csv')\n",
    "data.dropna(axis=0, inplace=True)\n",
    "\n",
    "# Aplicar el análisis de sentimientos a la columna 'Comentario Limpio'\n",
    "data['Rating_comentario'] = data['Comentario Limpio'].apply(analyze_sentiment)\n",
    "data['Rating_post'] = data['Tweet Texto Limpio'].apply(analyze_sentiment)"
   ]
  },
  {
   "cell_type": "code",
   "execution_count": 2,
   "metadata": {},
   "outputs": [],
   "source": [
    "def asignar_categoria(rating):\n",
    "    if 1 <= rating < 2: \n",
    "        return 'Muy negativo'\n",
    "    elif 2 <= rating < 3:\n",
    "        return 'Negativo'\n",
    "    elif 3 <= rating < 4:\n",
    "        return 'Neutral'\n",
    "    elif 4 <= rating < 5:\n",
    "        return 'Positivo'\n",
    "    elif rating == 5:\n",
    "        return 'Muy positivo'\n",
    "    \n",
    "data['Categoria_comentario'] = data['Rating_comentario'].apply(asignar_categoria)\n",
    "data['Categoria_post'] = data['Rating_post'].apply(asignar_categoria)"
   ]
  },
  {
   "cell_type": "code",
   "execution_count": 3,
   "metadata": {},
   "outputs": [],
   "source": [
    "# Guardar el DataFrame con la nueva columna\n",
    "data.to_csv('F:\\ManuelAngulo\\PROYECTOS\\ANALISIS DE SENTIMIENTOS\\data\\X_dumek_data_sentimiento.csv', index=False)"
   ]
  }
 ],
 "metadata": {
  "kernelspec": {
   "display_name": "nombre_del_entorno",
   "language": "python",
   "name": "python3"
  },
  "language_info": {
   "codemirror_mode": {
    "name": "ipython",
    "version": 3
   },
   "file_extension": ".py",
   "mimetype": "text/x-python",
   "name": "python",
   "nbconvert_exporter": "python",
   "pygments_lexer": "ipython3",
   "version": "3.11.3"
  }
 },
 "nbformat": 4,
 "nbformat_minor": 2
}
